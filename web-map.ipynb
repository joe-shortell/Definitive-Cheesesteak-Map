{
 "cells": [
  {
   "cell_type": "code",
   "execution_count": 1,
   "id": "67fe808a",
   "metadata": {},
   "outputs": [],
   "source": [
    "import folium\n",
    "import pandas as pd\n",
    "import geopandas as gpd\n",
    "import os\n",
    "from folium import Map, Marker, FeatureGroup, LayerControl\n",
    "from folium.features import CustomIcon"
   ]
  },
  {
   "cell_type": "markdown",
   "id": "5d26e36e",
   "metadata": {},
   "source": [
    "### Reading in data"
   ]
  },
  {
   "cell_type": "code",
   "execution_count": 2,
   "id": "8fc43ffc",
   "metadata": {},
   "outputs": [],
   "source": [
    "# reading data\n",
    "location_df = pd.read_csv(os.path.join('data','locations.csv'))\n",
    "\n",
    "# Coverting to geodataframe\n",
    "locations_geometry = gpd.points_from_xy(location_df.longitude, location_df.latitude)\n",
    "locations_gdf = gpd.GeoDataFrame(location_df, crs='EPSG:4326', geometry=locations_geometry)\n"
   ]
  },
  {
   "cell_type": "markdown",
   "id": "475472d5",
   "metadata": {},
   "source": [
    "### Creating the map"
   ]
  },
  {
   "cell_type": "code",
   "execution_count": 3,
   "id": "4a7be0f7",
   "metadata": {},
   "outputs": [],
   "source": [
    "# Define path to icons\n",
    "icon_path = \"icons/cheesesteak.png\""
   ]
  },
  {
   "cell_type": "code",
   "execution_count": 4,
   "id": "91156dc7",
   "metadata": {},
   "outputs": [
    {
     "data": {
      "text/plain": [
       "<folium.map.LayerControl at 0x129cd6ba0>"
      ]
     },
     "execution_count": 4,
     "metadata": {},
     "output_type": "execute_result"
    }
   ],
   "source": [
    "# Create the map\n",
    "m = folium.Map(location=[39.95244964298538, -75.1635846929202], zoom_start=12, tiles=\"CartoDB positron\")\n",
    "\n",
    "# Use tiers for layers\n",
    "tier_order = [1, 2, 3, 4]\n",
    "\n",
    "# Loop through each tier\n",
    "for tier_value in tier_order:\n",
    "    fg = folium.FeatureGroup(name=f\"Tier {tier_value}\")\n",
    "    tier_gdf = locations_gdf[locations_gdf[\"tier\"] == tier_value]\n",
    "\n",
    "    for _, row in tier_gdf.iterrows():\n",
    "\n",
    "        # Define icon inside the loop\n",
    "        icon = folium.CustomIcon(\n",
    "            icon_image=icon_path,\n",
    "            icon_size=(30, 30),\n",
    "            icon_anchor=(20, 20)\n",
    "        )\n",
    "\n",
    "        folium.Marker(\n",
    "            location=[row.geometry.y, row.geometry.x],\n",
    "            icon=icon,\n",
    "            tooltip=row[\"location\"]\n",
    "        ).add_to(fg)\n",
    "\n",
    "    fg.add_to(m)\n",
    "\n",
    "# Add layer control and save\n",
    "folium.LayerControl().add_to(m)"
   ]
  },
  {
   "cell_type": "markdown",
   "id": "14a767d1",
   "metadata": {},
   "source": [
    "### Saving the map"
   ]
  },
  {
   "cell_type": "code",
   "execution_count": null,
   "id": "d8582977",
   "metadata": {},
   "outputs": [],
   "source": [
    "m"
   ]
  },
  {
   "cell_type": "code",
   "execution_count": null,
   "id": "e7fbe1e3",
   "metadata": {},
   "outputs": [],
   "source": [
    "# save the map\n",
    "m.save(\"docs/index.html\")"
   ]
  }
 ],
 "metadata": {
  "kernelspec": {
   "display_name": ".venv",
   "language": "python",
   "name": "python3"
  },
  "language_info": {
   "codemirror_mode": {
    "name": "ipython",
    "version": 3
   },
   "file_extension": ".py",
   "mimetype": "text/x-python",
   "name": "python",
   "nbconvert_exporter": "python",
   "pygments_lexer": "ipython3",
   "version": "3.13.0"
  }
 },
 "nbformat": 4,
 "nbformat_minor": 5
}
